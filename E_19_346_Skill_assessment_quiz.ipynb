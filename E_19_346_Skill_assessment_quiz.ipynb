{
  "nbformat": 4,
  "nbformat_minor": 0,
  "metadata": {
    "colab": {
      "provenance": []
    },
    "kernelspec": {
      "name": "python3",
      "display_name": "Python 3"
    },
    "language_info": {
      "name": "python"
    }
  },
  "cells": [
    {
      "cell_type": "markdown",
      "source": [
        "# **Skill Assessment Quiz**"
      ],
      "metadata": {
        "id": "T274H3X_ChaR"
      }
    },
    {
      "cell_type": "markdown",
      "source": [
        "### Question No.01"
      ],
      "metadata": {
        "id": "AWFY38eMCsJA"
      }
    },
    {
      "cell_type": "code",
      "execution_count": null,
      "metadata": {
        "id": "qzrb3JfHBbXQ",
        "colab": {
          "base_uri": "https://localhost:8080/"
        },
        "outputId": "b0b37076-81b9-4170-f82e-5d79047b6520"
      },
      "outputs": [
        {
          "output_type": "stream",
          "name": "stdout",
          "text": [
            "[0.357142857142857]\n"
          ]
        }
      ],
      "source": [
        "import sympy\n",
        "import math\n",
        "from sympy import solve, Eq, symbols,I\n",
        "from sympy.abc import s,alpha\n",
        "import numpy as np\n",
        "import cmath\n",
        "\n",
        "print(solve(Eq(1/(s**2+1.4**2),(I*alpha/(s+1.4*I))-(I*np.conj(alpha)/(s-1.4*I))),alpha))\n",
        "\n"
      ]
    },
    {
      "cell_type": "markdown",
      "source": [
        "### Question No.02"
      ],
      "metadata": {
        "id": "QRbryhvfC04w"
      }
    },
    {
      "cell_type": "code",
      "source": [
        "import numpy as np\n",
        "\n",
        "eq=[1,2*2*1.1,1.1**2]\n",
        "\n",
        "roots_all= np.roots(eq)\n",
        "print(roots_all)\n",
        "\n",
        "print(\"The largest root is \",max(roots_all))"
      ],
      "metadata": {
        "colab": {
          "base_uri": "https://localhost:8080/"
        },
        "id": "xOUNwWw0Mbaf",
        "outputId": "12880460-79c6-4f6a-da5d-b772a6327eb1"
      },
      "execution_count": null,
      "outputs": [
        {
          "output_type": "stream",
          "name": "stdout",
          "text": [
            "[-4.10525589 -0.29474411]\n",
            "The largest root is  -0.294744111674235\n"
          ]
        }
      ]
    },
    {
      "cell_type": "markdown",
      "source": [
        "### Question No.03"
      ],
      "metadata": {
        "id": "S8q5rp5fC7Ug"
      }
    },
    {
      "cell_type": "code",
      "source": [
        "import sympy\n",
        "import math\n",
        "from sympy import *\n",
        "from sympy.abc import s,alpha,p\n",
        "import numpy as np\n",
        "import cmath\n",
        "\n",
        "x = Eq(1/(s**2+2*0.6*1.5*s+1.5**2),(I*alpha/(s+p))-(I*np.conj(alpha)/(s+np.conj(p))))\n",
        "print(sympy.latex(x))\n",
        "print()\n",
        "\n",
        "leftSide= 1/(s**2+2*0.6*1.5*s+1.5**2)\n",
        "partialFractions=apart(leftSide,full=True).doit()\n",
        "print(sympy.latex(partialFractions))"
      ],
      "metadata": {
        "colab": {
          "base_uri": "https://localhost:8080/"
        },
        "id": "ufYdlAil7M7P",
        "outputId": "caba2bf8-6400-4b91-9c29-d61418f934ca"
      },
      "execution_count": 7,
      "outputs": [
        {
          "output_type": "stream",
          "name": "stdout",
          "text": [
            "\\frac{1}{s^{2} + 1.8 s + 2.25} = \\frac{i \\alpha}{p + s} - \\frac{i \\overline{\\alpha}}{s + \\overline{p}}\n",
            "\n",
            "\\frac{1.0 \\cdot \\left(5.55111512312578 \\cdot 10^{-17} + 0.416666666666667 i\\right)}{s + 0.9 + 1.2 i} + \\frac{1.0 \\cdot \\left(5.55111512312578 \\cdot 10^{-17} - 0.416666666666667 i\\right)}{s + 0.9 - 1.2 i}\n"
          ]
        }
      ]
    },
    {
      "cell_type": "markdown",
      "source": [
        "$\\frac{1}{s^{2} + 1.8 s + 2.25} = \\frac{i \\alpha}{p + s} - \\frac{i \\overline{\\alpha}}{s + \\overline{p}}$"
      ],
      "metadata": {
        "id": "xBEfn4Rm80Qp"
      }
    },
    {
      "cell_type": "markdown",
      "source": [
        "$\\frac{1.0 \\cdot \\left(5.55111512312578 \\cdot 10^{-17} + 0.416666666666667 i\\right)}{s + 0.9 + 1.2 i} + \\frac{1.0 \\cdot \\left(5.55111512312578 \\cdot 10^{-17} - 0.416666666666667 i\\right)}{s + 0.9 - 1.2 i}$"
      ],
      "metadata": {
        "id": "PV3VRnnP8LAJ"
      }
    },
    {
      "cell_type": "markdown",
      "source": [
        "### Question No.04"
      ],
      "metadata": {
        "id": "vLQrOBOrC_zx"
      }
    },
    {
      "cell_type": "code",
      "source": [
        "import sympy\n",
        "import math\n",
        "import numpy as np\n",
        "import cmath\n",
        "\n",
        "A=[0.2,1.7,-1.4]\n",
        "B=[0,-0.2,-0.7]\n",
        "\n",
        "vector1=np.cross(A,B)\n",
        "print(np.linalg.norm(vector1))"
      ],
      "metadata": {
        "colab": {
          "base_uri": "https://localhost:8080/"
        },
        "id": "pTzwcwNIb5GP",
        "outputId": "1b577580-e396-4535-8b7c-6f5bd4c377f9"
      },
      "execution_count": 28,
      "outputs": [
        {
          "output_type": "stream",
          "name": "stdout",
          "text": [
            "1.4771932845772078\n"
          ]
        }
      ]
    },
    {
      "cell_type": "markdown",
      "source": [
        "### Question No.05"
      ],
      "metadata": {
        "id": "YiSB76U9DDXB"
      }
    },
    {
      "cell_type": "code",
      "source": [
        "import sympy as sp\n",
        "from sympy import Matrix\n",
        "from sympy import *\n",
        "from sympy.abc import omega\n",
        "\n",
        "x = sp.symbols('x', real=True,domain=(1,5))\n",
        "m= Matrix([[0,1],[-omega**2,-2*x*omega]])\n",
        "\n",
        "print(sympy.latex(m.eigenvals()))\n",
        "print()\n",
        "print(sympy.latex(m.eigenvects()))\n"
      ],
      "metadata": {
        "colab": {
          "base_uri": "https://localhost:8080/"
        },
        "id": "6nBXsPhqjt8G",
        "outputId": "8541b517-4ab0-46f7-c1c6-f1bd65c67074"
      },
      "execution_count": 12,
      "outputs": [
        {
          "output_type": "stream",
          "name": "stdout",
          "text": [
            "\\left\\{ \\omega \\left(- x - \\sqrt{\\left(x - 1\\right) \\left(x + 1\\right)}\\right) : 1, \\  \\omega \\left(- x + \\sqrt{\\left(x - 1\\right) \\left(x + 1\\right)}\\right) : 1\\right\\}\n",
            "\n",
            "\\left[ \\left( \\omega \\left(- x - \\sqrt{\\left(x - 1\\right) \\left(x + 1\\right)}\\right), \\  1, \\  \\left[ \\left[\\begin{matrix}- \\frac{2 x}{\\omega} - \\frac{- x - \\sqrt{\\left(x - 1\\right) \\left(x + 1\\right)}}{\\omega}\\\\1\\end{matrix}\\right]\\right]\\right), \\  \\left( \\omega \\left(- x + \\sqrt{\\left(x - 1\\right) \\left(x + 1\\right)}\\right), \\  1, \\  \\left[ \\left[\\begin{matrix}- \\frac{2 x}{\\omega} - \\frac{- x + \\sqrt{\\left(x - 1\\right) \\left(x + 1\\right)}}{\\omega}\\\\1\\end{matrix}\\right]\\right]\\right)\\right]\n"
          ]
        }
      ]
    },
    {
      "cell_type": "markdown",
      "source": [
        "$\\left\\{ \\omega \\left(- x - \\sqrt{\\left(x - 1\\right) \\left(x + 1\\right)}\\right) : 1, \\  \\omega \\left(- x + \\sqrt{\\left(x - 1\\right) \\left(x + 1\\right)}\\right) : 1\\right\\}$"
      ],
      "metadata": {
        "id": "q68DTT4J_1U8"
      }
    },
    {
      "cell_type": "markdown",
      "source": [
        "$\\left[ \\left( \\omega \\left(- x - \\sqrt{\\left(x - 1\\right) \\left(x + 1\\right)}\\right), \\  1, \\  \\left[ \\left[\\begin{matrix}- \\frac{2 x}{\\omega} - \\frac{- x - \\sqrt{\\left(x - 1\\right) \\left(x + 1\\right)}}{\\omega}\\\\1\\end{matrix}\\right]\\right]\\right), \\  \\left( \\omega \\left(- x + \\sqrt{\\left(x - 1\\right) \\left(x + 1\\right)}\\right), \\  1, \\  \\left[ \\left[\\begin{matrix}- \\frac{2 x}{\\omega} - \\frac{- x + \\sqrt{\\left(x - 1\\right) \\left(x + 1\\right)}}{\\omega}\\\\1\\end{matrix}\\right]\\right]\\right)\\right]$"
      ],
      "metadata": {
        "id": "PKz_N9Bp_9hk"
      }
    }
  ]
}